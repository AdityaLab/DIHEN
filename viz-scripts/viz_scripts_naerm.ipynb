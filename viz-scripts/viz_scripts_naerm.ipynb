{
 "cells": [
  {
   "cell_type": "code",
   "execution_count": 4,
   "metadata": {},
   "outputs": [],
   "source": [
    "import pandas as pd\n",
    "import numpy as np\n",
    "import matplotlib.pyplot as plt\n",
    "# plt.switch_backend('agg')\n",
    "from matplotlib import rc,rcParams\n",
    "from collections import OrderedDict "
   ]
  },
  {
   "cell_type": "code",
   "execution_count": 5,
   "metadata": {},
   "outputs": [],
   "source": [
    "def plot_grouped_bar_chart(error_dict,xticklabels,figname,title,uq_bar=None,bbox=(1.01, 1.05),yl=1.0,color=['r','b','c','y','g','m','k','orange','olive',(0.502, 0.000, 0.502)]):\n",
    "    last_idx=(0.502, 0.000, 0.502)\n",
    "    print('bar chart')\n",
    "    print(error_dict[list(error_dict.keys())[0]])\n",
    "    \n",
    "    N=len(error_dict[list(error_dict.keys())[0]])\n",
    "    \n",
    "    fig, ax = plt.subplots(1,1,figsize=(7,4))\n",
    "\n",
    "    ind = np.arange(N)    # the x locations for the groups\n",
    "    width1 = .09       # the width of the bars\n",
    "    #width2=0\n",
    "    bars=list()\n",
    "    k=1\n",
    "    for idx,model_name in enumerate(error_dict.keys()):\n",
    "        #print(model_name,len(error_dict[model_name]))\n",
    "        if uq_bar[model_name] is None:\n",
    "            _p = ax.bar(ind+((idx-k)*width1), error_dict[model_name], width1, bottom=0,color=color[idx])\n",
    "        else:\n",
    "            _p = ax.bar(ind+((idx-k)*width1), error_dict[model_name], width1, bottom=0,color=color[idx],yerr=uq_bar[model_name],align='center',ecolor='black',capsize=10)\n",
    "        bars.append(_p)\n",
    "    \n",
    "    \n",
    "    ax.set_xticks(ind + width1/ 2)\n",
    "   \n",
    "    for tick in ax.xaxis.get_major_ticks():\n",
    "        tick.label.set_fontsize(20)\n",
    "        # specify integer or one of preset strings, e.g.\n",
    "        #tick.label.set_fontsize('x-small')\n",
    "        #tick.label.set_rotation(45)\n",
    "   \n",
    "    for tick in ax.yaxis.get_major_ticks():\n",
    "        tick.label.set_fontsize(20)\n",
    "   \n",
    "    ax.set_xticklabels(xticklabels)\n",
    "    ax.set_ylim([0, yl])\n",
    "    #ax.set_xlabel(\"National\",fontsize=24)\n",
    "    #ax.set_ylabel('RMSE',fontsize=24)\n",
    "    ax.set_title(figname+' '+title)\n",
    "    #ax.legend(bars,error_dict.keys(),fontsize=20,bbox_to_anchor=(1.01, 1.05))\n",
    "    ax.legend(bars,error_dict.keys(),fontsize=20,bbox_to_anchor=bbox)\n",
    "    #fig.tight_layout()\n",
    "    #fig.savefig(figname+'-'+title+'.png',dpi=500)\n",
    "    #fig.savefig(figname+'-'+title+'.png')\n"
   ]
  },
  {
   "cell_type": "code",
   "execution_count": 6,
   "metadata": {},
   "outputs": [],
   "source": [
    "ttl_nodes_nat=93579\n",
    "original=OrderedDict()\n",
    "orig=np.array([874,3157,74,127,954])/ttl_nodes_nat #R1,R2,R3,R7,R8\n",
    "original['National']=np.array([orig[0],orig[1], orig[2],orig[3],orig[4]])"
   ]
  },
  {
   "cell_type": "code",
   "execution_count": null,
   "metadata": {},
   "outputs": [],
   "source": [
    "def genfigureGain_vs_baseline_naerm(original,k,region='National',path='fig/',alpha=0.7,inline=True):\n",
    "    title=\"\"\n",
    "    xticklabels=['R1','R2','R3','R4','R5']\n",
    "    baseline1=OrderedDict()\n",
    "    baseline1['DIHen']= (np.array([44,11,10])/k)/original[region]\n",
    "    baseline1['Deg']= (np.array([16,4,2])/k)/original[region]\n",
    "    baseline1['IC1']= (np.array([23,8,5])/k)/original[region]\n",
    "    baseline1['IC0.5']= (np.array([21,8,3])/k)/original[region]\n",
    "    baseline1['IC0.2']= (np.array([18,9,4])/k)/original[region]\n",
    "     \n",
    "    num_rules=5\n",
    "    mean_gain=np.zeros(num_rules)\n",
    "    print('Mean gain')\n",
    "    for i in range(num_rules):\n",
    "        mean_gain[i]=((baseline1['DIHen'][i]/baseline1['Deg'][i])+(baseline1['DIHen'][i]/baseline1['IC1'][i])+(baseline1['DIHen'][i]/baseline1['IC0.5'][i])+(baseline1['DIHen'][i]/baseline1['IC0.2'][i]))/4\n",
    "    \n",
    "    print(mean_gain)\n",
    "    \n",
    "    color1=['r','b','g','olive','cyan']\n",
    "    \n",
    "    plot_grouped_bar_chart(baseline1,xticklabels,\"\",title,bbox=(0.5,0.25),yl=90,color=color1) #R1\n"
   ]
  },
  {
   "cell_type": "code",
   "execution_count": 15,
   "metadata": {
    "scrolled": true
   },
   "outputs": [
    {
     "name": "stdout",
     "output_type": "stream",
     "text": [
      "bar chart\n",
      "[64.96679518 56.10768675 47.98683735 42.08076506 32.92635301]\n"
     ]
    },
    {
     "data": {
      "image/png": "[encoded data removed]",
      "text/plain": [
       "<Figure size 504x288 with 1 Axes>"
      ]
     },
     "metadata": {
      "needs_background": "light"
     },
     "output_type": "display_data"
    }
   ],
   "source": [
    "def genfigureGain_vs_K_urbannet(original,K,region='National',path='fig/',alpha=0.7,inline=True):\n",
    "    title=\"\"\n",
    "    xticklabels=['50','100','200','300','500']\n",
    "    b1=np.array([64.96679518,56.10768675,47.98683735,42.08076506,32.92635301]) #v>=345\n",
    "    b2=np.array([6.229545346,3.681094977,3.964256129,3.492320876,3.058140443]) #near-mil\n",
    "    b3=np.array([240.3151515,144.1890909,120.1575758,96.12606061,67.28824242]) #v>=345+near-mil\n",
    "    baseline1=OrderedDict()\n",
    "    baseline1['R1']= b1\n",
    "    baseline1['R2']= b2\n",
    "    baseline1['R3']= b3\n",
    "    error=OrderedDict()\n",
    "    error['R1']=[2.637745729,2.637745729,2.637745729,2.637745729,2.637745729]\n",
    "    error['R2']=[0.995325409,0.995325409,0.995325409,0.995325409,0.995325409]\n",
    "    error['R3']=[39.65501412,39.65501412,39.65501412,39.65501412,39.65501412]\n",
    "    color1=['g','r','b']\n",
    "    #color1=['r','b','g','olive','cyan','peru','orange']\n",
    "    \n",
    "    plot_grouped_bar_chart(baseline1,xticklabels,\"\",title,error=error,bbox=(0.68,0.45),yl=300,color=color1) #R \n",
    "\n",
    "ttl_nodes_nat=118956\n",
    "original=OrderedDict()\n",
    "orig=np.array([0.01395473957,0.03531557887,0.0008322404923]) #R1,R2,R3\n",
    "original['National']=np.array([orig[0],orig[1], orig[2]])\n",
    "\n",
    "K=[50,100,200,300,500]\n",
    "genfigureGain_vs_K_urbannet(original,K)\n"
   ]
  },
  {
   "cell_type": "code",
   "execution_count": 20,
   "metadata": {},
   "outputs": [],
   "source": [
    "def genfigureGain_vs_K(original,K,region='National',path='fig/',alpha=0.7,inline=True):\n",
    "    title=\"\" #naerm-eval\n",
    "    xticklabels=['50','100','200','300','500']\n",
    "    b1=np.array([2,6,19,35,65])/K #v>=345\n",
    "    b2=np.array([6,13,22,28,49])/K #near-mil\n",
    "    b3=np.array([0,3,4,6,14])/K #v>=345+near-mil\n",
    "    b7=np.array([0,1,3,3,7])/K #load>=300\n",
    "    b8=np.array([4,8,10,13,26])/K #near-NG\n",
    "    baseline1=OrderedDict()\n",
    "    baseline1['R1']= b1/original[region][0]\n",
    "    baseline1['R2']= b2/original[region][1]\n",
    "    baseline1['R3']= b3/original[region][2]\n",
    "    baseline1['R7']= b7/original[region][3]\n",
    "    baseline1['R8']= b8/original[region][4]\n",
    "    \n",
    "    error=OrderedDict()\n",
    "    error['R1']=[1.520453528,1.520453528,1.520453528,1.520453528,1.520453528]\n",
    "    error['R2']=[0.447223522,0.447223522,0.447223522,0.447223522,0.447223522]\n",
    "    error['R3']=[11.43786016,11.43786016,11.43786016,11.43786016,11.43786016]\n",
    "    error['R7']=[2.009074257,2.009074257,2.009074257,2.009074257,2.009074257]\n",
    "    error['R8']=[0.792125855,0.792125855,0.792125855,0.792125855,0.792125855]\n",
    "    color1=['g','r','b','y','cyan']\n",
    "    #color1=['r','b','g','olive','cyan','peru','orange']\n",
    "    \n",
    "    plot_grouped_bar_chart(baseline1,xticklabels,\"\",title,bbox=(0.28,0.25),yl=60,color=color1,error=error) #R \n"
   ]
  },
  {
   "cell_type": "code",
   "execution_count": 7,
   "metadata": {},
   "outputs": [],
   "source": [
    "def genfigureGain_vs_ablation(original,k,region='National',path='fig/',alpha=0.7,inline=True):\n",
    "    title=\"\"\n",
    "    xticklabels=['R1','R2','R3']\n",
    "    model=['CB','FP','NER','RG']\n",
    "    ablation=OrderedDict()\n",
    "    ablation['DIHen']= (np.array([35,8,6])/k)/original[region]\n",
    "    ablation['CB']= (np.array([35,8,6])/k)/original[region]\n",
    "    ablation['FP']= (np.array([23,8,5])/k)/original[region]\n",
    "    ablation['NER']= (np.array([23,8,5])/k)/original[region]\n",
    "    ablation['RG']= (np.array([18,9,4])/k)/original[region]\n",
    "    \n",
    "    num_rules=3\n",
    "    mean_gain=np.zeros(num_rules)\n",
    "    print('Mean gain')\n",
    "    for i in range(num_rules):\n",
    "        mean_gain[i]=((ablation['DIHen'][i]-ablation[model[0]][i])+(ablation['DIHen'][i]-ablation[model[1]][i])+(ablation['DIHen'][i]-ablation[model[2]][i])+(ablation['DIHen'][i]-ablation[model[3]][i]))/4\n",
    "    \n",
    "    print(mean_gain)\n",
    "    \n",
    "    color=['r',(1.000, 0.753, 0.796),(0.502, 0.000, 0.502),(0.941, 0.902, 0.549),(0.741, 0.718, 0.420),(0.502, 0.000, 0.502)]\n",
    "    plot_grouped_bar_chart(ablation,xticklabels,\"\",title,bbox=(0.65,0.25),yl=270,color=color) #R1\n",
    "    "
   ]
  },
  {
   "cell_type": "code",
   "execution_count": 21,
   "metadata": {
    "scrolled": true
   },
   "outputs": [
    {
     "name": "stdout",
     "output_type": "stream",
     "text": [
      "bar chart\n",
      "[ 4.28279176  6.42418764 10.17163043 12.49147597 13.91907323]\n"
     ]
    },
    {
     "data": {
      "image/png": "[encoded data removed]",
      "text/plain": [
       "<Figure size 504x288 with 1 Axes>"
      ]
     },
     "metadata": {
      "needs_background": "light"
     },
     "output_type": "display_data"
    }
   ],
   "source": [
    "K=[50,100,200,300,500]\n",
    "genfigureGain_vs_K(original,K)\n",
    "\n",
    "#genfigureGain_vs_ablation(original,k)"
   ]
  },
  {
   "cell_type": "code",
   "execution_count": 49,
   "metadata": {},
   "outputs": [],
   "source": [
    "def genfigureuncertain(var_gain,data,path='fig/',alpha=0.7,inline=True):\n",
    "    title='variance'\n",
    "    xticklabels=['R1','R2','R3']\n",
    "    color1=['g','r','b']\n",
    "    error=OrderedDict()\n",
    "    error[data]= var_gain\n",
    "    if data=='naerm':\n",
    "        xticklabels=['R1','R2','R3','R7','R8']\n",
    "        error['R7']= var_gain[3]\n",
    "        error['R8']= var_gain[4]\n",
    "        color1=['g','r']\n",
    "    \n",
    "    print(var_gain)\n",
    "    y=int(max(var_gain)+60)\n",
    "    plot_grouped_bar_chart(error,xticklabels,\"\",title,bbox=(0.48,0.45),yl=y,color=color1) #R \n"
   ]
  },
  {
   "cell_type": "code",
   "execution_count": 50,
   "metadata": {},
   "outputs": [
    {
     "name": "stdout",
     "output_type": "stream",
     "text": [
      "[9.49356605e+00 9.87269800e-01 1.43567577e+03]\n",
      "bar chart\n",
      "[9.49356605e+00 9.87269800e-01 1.43567577e+03]\n"
     ]
    },
    {
     "data": {
      "image/png": "[encoded data removed]",
      "text/plain": [
       "<Figure size 504x288 with 1 Axes>"
      ]
     },
     "metadata": {
      "needs_background": "light"
     },
     "output_type": "display_data"
    }
   ],
   "source": [
    "var_gain_urbannet=np.array([9.493566053,0.9872698,1435.675775])\n",
    "#var_gain_naerm=np.array([])\n",
    "\n",
    "genfigureuncertain(var_gain_urbannet,'urbannet')\n",
    "\n",
    "#genfigureuncertain('naerm',var_gain_naerm,'naerm')"
   ]
  },
  {
   "cell_type": "markdown",
   "metadata": {},
   "source": [
    "# APPENDIX RESULTS"
   ]
  },
  {
   "cell_type": "code",
   "execution_count": 18,
   "metadata": {},
   "outputs": [
    {
     "name": "stdout",
     "output_type": "stream",
     "text": [
      "Mean gain\n",
      "[13.26401544 -1.68071429]\n",
      "bar chart\n",
      "[23.25745174  4.03371429]\n"
     ]
    },
    {
     "data": {
      "image/png": "[encoded data removed]",
      "text/plain": [
       "<Figure size 504x288 with 1 Axes>"
      ]
     },
     "metadata": {
      "needs_background": "light"
     },
     "output_type": "display_data"
    }
   ],
   "source": [
    "# Ablation for other datasets\n",
    "def genfigureGain_vs_ablation(ablation_reg,original,k,yl,region,num_rules=3,path='fig/',alpha=0.7,inline=True):\n",
    "    title=\"\"\n",
    "    #xticklabels=['R1','R2','R3']\n",
    "    xticklabels=['R1','R2']\n",
    "    model=['CB','FP','NER','RG']\n",
    "    ablation=OrderedDict()\n",
    "    ablation['DIHen']= ablation_reg['DIHen']/original[region]\n",
    "    for m in model:\n",
    "        ablation[m]= ablation_reg[m]/original[region]\n",
    "        ablation[m]= ablation_reg[m]/original[region]\n",
    "        ablation[m]= ablation_reg[m]/original[region]\n",
    "        ablation[m]= ablation_reg[m]/original[region]\n",
    "    \n",
    "    num_rules=num_rules\n",
    "    mean_gain=np.zeros(num_rules)\n",
    "    print('Mean gain')\n",
    "    for i in range(num_rules):\n",
    "        mean_gain[i]=((ablation['DIHen'][i]-ablation[model[0]][i])+(ablation['DIHen'][i]-ablation[model[1]][i])+(ablation['DIHen'][i]-ablation[model[2]][i])+(ablation['DIHen'][i]-ablation[model[3]][i]))/4\n",
    "    \n",
    "    print(mean_gain)\n",
    "    \n",
    "    color=['r',(1.000, 0.753, 0.796),(0.502, 0.000, 0.502),(0.941, 0.902, 0.549),(0.741, 0.718, 0.420),(0.502, 0.000, 0.502)]\n",
    "    plot_grouped_bar_chart(ablation,xticklabels,\"\",title,bbox=(0.65,0.25),yl=yl,color=color) #R1\n",
    "\n",
    "#ORIGINAL\n",
    "original=OrderedDict()\n",
    "#original['National']=np.array([0.01395473957,0.03531557887,0.0008322404923])\n",
    "original['EIC']=np.array([0.01417327094,0.03168699792,0.001014308512])\n",
    "#original['ERCOT']=np.array([0.02751806205,0.02974925627,0.001168720782])\n",
    "original['ERCOT']=np.array([0.02751806205,0.02974925627])\n",
    "    \n",
    "#EIC\n",
    "k=50\n",
    "ablation1=OrderedDict()\n",
    "ablation1['DIHen']= np.array([39,5,5])/k\n",
    "ablation1['CB']= np.array([39,5,5])/k\n",
    "ablation1['FP']= np.array([21,6,3])/k\n",
    "ablation1['NER']= np.array([21,7,3])/k\n",
    "ablation1['RG']= np.array([17,3,1])/k\n",
    "region='EIC'\n",
    "#genfigureGain_vs_ablation(ablation1,original,k,150,region)\n",
    "\n",
    "#ERCOT\n",
    "k=50\n",
    "ablation2=OrderedDict()\n",
    "ablation2['DIHen']= np.array([32,6])/k\n",
    "ablation2['CB']= np.array([32,6])/k\n",
    "ablation2['FP']= np.array([9,9])/k\n",
    "ablation2['NER']= np.array([9,9])/k\n",
    "ablation2['RG']= np.array([5,10])/k\n",
    "region='ERCOT'\n",
    "genfigureGain_vs_ablation(ablation2,original,k,30,region,num_rules=2)\n",
    "\n",
    "#ERCOT\n",
    "k=200\n",
    "ablation2=OrderedDict()\n",
    "ablation2['DIHen']= np.array([56,12,1])/k\n",
    "ablation2['CB']= np.array([56,12,1])/k\n",
    "ablation2['FP']= np.array([28,30,2])/k\n",
    "ablation2['NER']= np.array([25,30,1])/k\n",
    "ablation2['RG']= np.array([26,15,1])/k\n",
    "region='ERCOT'\n",
    "#genfigureGain_vs_ablation(ablation2,original,k,20,region)\n"
   ]
  },
  {
   "cell_type": "code",
   "execution_count": 22,
   "metadata": {},
   "outputs": [
    {
     "name": "stdout",
     "output_type": "stream",
     "text": [
      "Mean gain\n",
      "[14.35420849  0.84035714]\n",
      "bar chart\n",
      "[23.25745174  4.03371429]\n",
      "bar chart\n",
      "[23.25745174  4.03371429]\n"
     ]
    },
    {
     "data": {
      "image/png": "[encoded data removed]",
      "text/plain": [
       "<Figure size 504x288 with 1 Axes>"
      ]
     },
     "metadata": {
      "needs_background": "light"
     },
     "output_type": "display_data"
    },
    {
     "data": {
      "image/png": "[encoded data removed]",
      "text/plain": [
       "<Figure size 504x288 with 1 Axes>"
      ]
     },
     "metadata": {
      "needs_background": "light"
     },
     "output_type": "display_data"
    }
   ],
   "source": [
    "#ORIGINAL\n",
    "original=OrderedDict()\n",
    "#original['National']=np.array([0.01395473957,0.03531557887,0.0008322404923])\n",
    "original['EIC']=np.array([0.01417327094,0.03168699792,0.001014308512])\n",
    "#original['ERCOT']=np.array([0.02751806205,0.02974925627,0.001168720782])\n",
    "original['ERCOT']=np.array([0.02751806205,0.02974925627])\n",
    "#Baseline for EIC\n",
    "k=50\n",
    "eic=OrderedDict()\n",
    "eic['DIHen']=np.array([39,5,5])/k\n",
    "eic['Deg']=np.array([20,6,3])/k\n",
    "eic['IC1']=np.array([21,6,3])/k\n",
    "eic['IC0.5']=np.array([21,9,3])/k\n",
    "eic['IC0.2']=np.array([18,2,0])/k\n",
    "eic['PR']=np.array([3,2,0])/k\n",
    "eic['CS01']=np.array([13,2,1])/k\n",
    "eic['CS10']=np.array([6,2,0])/k\n",
    "eic['CS.5.5']=np.array([12,3,1])/k\n",
    "\n",
    "region='EIC'\n",
    "#genfigureGain_vs_baseline(eic,original,k,region,150,150)\n",
    "\n",
    "#Baseline for ERCOT\n",
    "k=50\n",
    "tx=OrderedDict()\n",
    "tx['DIHen']=np.array([32,6])/k\n",
    "tx['Deg']=np.array([12,4])/k\n",
    "tx['IC1']=np.array([9,9])/k\n",
    "tx['IC0.5']=np.array([14,11])/k\n",
    "tx['IC0.2']=np.array([6,10])/k\n",
    "tx['PR']=np.array([14,0])/k\n",
    "tx['CS01']=np.array([10,4])/k\n",
    "tx['CS10']=np.array([17,0])/k\n",
    "tx['CS.5.5']=np.array([16,0])/k\n",
    "\n",
    "region='ERCOT'\n",
    "genfigureGain_vs_baseline(tx,original,k,region,30,30,num_rules=2)\n"
   ]
  },
  {
   "cell_type": "code",
   "execution_count": null,
   "metadata": {},
   "outputs": [],
   "source": []
  }
 ],
 "metadata": {
  "kernelspec": {
   "display_name": "Python 3",
   "language": "python",
   "name": "python3"
  },
  "language_info": {
   "codemirror_mode": {
    "name": "ipython",
    "version": 3
   },
   "file_extension": ".py",
   "mimetype": "text/x-python",
   "name": "python",
   "nbconvert_exporter": "python",
   "pygments_lexer": "ipython3",
   "version": "3.8.5"
  }
 },
 "nbformat": 4,
 "nbformat_minor": 4
}
